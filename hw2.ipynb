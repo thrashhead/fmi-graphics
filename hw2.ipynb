{
 "cells": [
  {
   "cell_type": "code",
   "execution_count": null,
   "metadata": {},
   "outputs": [],
   "source": [
    "from matplotlib.animation import FuncAnimation\n",
    "import matplotlib.pyplot as plt\n",
    "%matplotlib inline\n",
    "import numpy as np"
   ]
  },
  {
   "cell_type": "code",
   "execution_count": null,
   "metadata": {},
   "outputs": [],
   "source": [
    "from hw2 import get_circle_points"
   ]
  },
  {
   "cell_type": "code",
   "execution_count": null,
   "metadata": {},
   "outputs": [],
   "source": [
    "DIMENTIONS = (10, 10)\n",
    "CENTRE = (5, 5)\n",
    "RADIUS = 3"
   ]
  },
  {
   "cell_type": "code",
   "execution_count": null,
   "metadata": {},
   "outputs": [],
   "source": [
    "plt.rcParams[\"figure.figsize\"] = [7.00, 3.50]\n",
    "plt.rcParams[\"figure.autolayout\"] = True\n",
    "\n",
    "fig, ax = plt.subplots()\n",
    "\n",
    "plot = np.ones(DIMENTIONS)\n",
    "pixels = list(get_circle_points(*CENTRE, RADIUS))\n",
    "\n",
    "\n",
    "def update(i):\n",
    "    x, y = pixels[i]\n",
    "    plot[x, y] = 0\n",
    "    \n",
    "    ax.imshow(plot)\n",
    "    ax.set_axis_off()\n",
    "\n",
    "anim = FuncAnimation(fig, update, frames=len(pixels), interval=100)\n",
    "anim.save('hw2.gif', dpi=80);"
   ]
  }
 ],
 "metadata": {
  "kernelspec": {
   "display_name": "Python 3.10.7 64-bit ('3.10.7')",
   "language": "python",
   "name": "python3"
  },
  "language_info": {
   "codemirror_mode": {
    "name": "ipython",
    "version": 3
   },
   "file_extension": ".py",
   "mimetype": "text/x-python",
   "name": "python",
   "nbconvert_exporter": "python",
   "pygments_lexer": "ipython3",
   "version": "3.10.7"
  },
  "orig_nbformat": 4,
  "vscode": {
   "interpreter": {
    "hash": "a0587192df2c65093d209452050e76f9d4a1060cd07fd27ca30c69f23d43e5a6"
   }
  }
 },
 "nbformat": 4,
 "nbformat_minor": 2
}
