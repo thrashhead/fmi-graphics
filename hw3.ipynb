{
 "cells": [
  {
   "cell_type": "code",
   "execution_count": null,
   "metadata": {},
   "outputs": [],
   "source": [
    "import numpy as np\n",
    "import matplotlib.pyplot as plt\n",
    "import seaborn as sns\n",
    "from bezier import Curve"
   ]
  },
  {
   "cell_type": "code",
   "execution_count": null,
   "metadata": {},
   "outputs": [],
   "source": [
    "from hw3 import get_bezier_domains, pick_color"
   ]
  },
  {
   "cell_type": "code",
   "execution_count": null,
   "metadata": {},
   "outputs": [],
   "source": [
    "X_MIN = 0\n",
    "X_MAX = 10"
   ]
  },
  {
   "cell_type": "code",
   "execution_count": null,
   "metadata": {},
   "outputs": [],
   "source": [
    "FUNC = np.sin\n",
    "DEGREE = 7\n",
    "NUM_CURVES = 4"
   ]
  },
  {
   "cell_type": "code",
   "execution_count": null,
   "metadata": {},
   "outputs": [],
   "source": [
    "domain = np.linspace(X_MIN, X_MAX, DEGREE*NUM_CURVES + 1)\n",
    "codomain = list(map(FUNC, domain))"
   ]
  },
  {
   "cell_type": "code",
   "execution_count": null,
   "metadata": {},
   "outputs": [],
   "source": [
    "bezier_domain = get_bezier_domains(domain, DEGREE)\n",
    "bezier_codomain = get_bezier_domains(codomain, DEGREE)"
   ]
  },
  {
   "cell_type": "code",
   "execution_count": null,
   "metadata": {},
   "outputs": [],
   "source": [
    "nodes = [np.asfortranarray([d, c]) for (d, c) in zip(bezier_domain, bezier_codomain)]\n",
    "curves = [Curve(n, degree=DEGREE) for n in nodes]"
   ]
  },
  {
   "cell_type": "code",
   "execution_count": null,
   "metadata": {},
   "outputs": [],
   "source": [
    "sns.set()\n",
    "ax = None\n",
    "for curve in curves:\n",
    "    ax = curve.plot(num_pts=256, ax=ax)\n",
    "\n",
    "color_gen = pick_color(repeat=DEGREE)\n",
    "[plt.plot(x, y, '*', color=next(color_gen)) for x, y in zip(domain, codomain)]\n",
    "    \n",
    "_ = ax.axis(\"scaled\")\n",
    "_ = ax.set_xlim(-0.125 + X_MIN, 0.125 + X_MAX)"
   ]
  },
  {
   "cell_type": "code",
   "execution_count": null,
   "metadata": {},
   "outputs": [],
   "source": []
  }
 ],
 "metadata": {
  "kernelspec": {
   "display_name": "Python 3.10.7 64-bit ('3.10.7')",
   "language": "python",
   "name": "python3"
  },
  "language_info": {
   "codemirror_mode": {
    "name": "ipython",
    "version": 3
   },
   "file_extension": ".py",
   "mimetype": "text/x-python",
   "name": "python",
   "nbconvert_exporter": "python",
   "pygments_lexer": "ipython3",
   "version": "3.10.7"
  },
  "orig_nbformat": 4,
  "vscode": {
   "interpreter": {
    "hash": "a0587192df2c65093d209452050e76f9d4a1060cd07fd27ca30c69f23d43e5a6"
   }
  }
 },
 "nbformat": 4,
 "nbformat_minor": 2
}
