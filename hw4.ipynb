{
 "cells": [
  {
   "cell_type": "code",
   "execution_count": null,
   "metadata": {},
   "outputs": [],
   "source": [
    "import matplotlib.pyplot as plt\n",
    "from matplotlib.patches import Rectangle, \n",
    "from matplotlib.lines import Line2D"
   ]
  },
  {
   "cell_type": "code",
   "execution_count": null,
   "metadata": {},
   "outputs": [],
   "source": [
    "from hw4 import get_rectangle_line_intersections"
   ]
  },
  {
   "cell_type": "code",
   "execution_count": null,
   "metadata": {},
   "outputs": [],
   "source": [
    "X_LIM = (0, 10)\n",
    "Y_LIM = (0, 10)"
   ]
  },
  {
   "cell_type": "code",
   "execution_count": null,
   "metadata": {},
   "outputs": [],
   "source": [
    "RECT_BOTTOM_LEFT = (1, 1)\n",
    "RECT_UPPER_RIGHT = (4, 6)\n",
    "RECT_WIDTH = RECT_UPPER_RIGHT[0] - RECT_BOTTOM_LEFT[0]\n",
    "RECT_HEIGHT = RECT_UPPER_RIGHT[1] - RECT_BOTTOM_LEFT[1]"
   ]
  },
  {
   "cell_type": "code",
   "execution_count": null,
   "metadata": {},
   "outputs": [],
   "source": [
    "POINT1 = (0, 1)\n",
    "POINT2 = (6, 8)"
   ]
  },
  {
   "cell_type": "code",
   "execution_count": null,
   "metadata": {},
   "outputs": [],
   "source": [
    "fig, ax = plt.subplots()\n",
    "ax.set_xlim(X_LIM)\n",
    "ax.set_ylim(Y_LIM)\n",
    "\n",
    "ax.add_patch(Rectangle(RECT_BOTTOM_LEFT, RECT_WIDTH, RECT_HEIGHT));\n",
    "ax.add_line(Line2D([POINT1[0], POINT2[0]], [POINT1[1], POINT2[1]], color='red'))"
   ]
  },
  {
   "cell_type": "code",
   "execution_count": null,
   "metadata": {},
   "outputs": [],
   "source": [
    "succ, intersections = get_rectangle_line_intersections(*RECT_BOTTOM_LEFT, *RECT_UPPER_RIGHT, *POINT1, *POINT2)"
   ]
  },
  {
   "cell_type": "code",
   "execution_count": null,
   "metadata": {},
   "outputs": [],
   "source": [
    "if succ:\n",
    "    x1, y1, x2, y2 = intersections\n",
    "    fig, ax = plt.subplots()\n",
    "    ax.set_xlim(X_LIM)\n",
    "    ax.set_ylim(Y_LIM)\n",
    "\n",
    "    ax.add_patch(Rectangle(RECT_BOTTOM_LEFT, RECT_WIDTH, RECT_HEIGHT));\n",
    "    ax.add_line(Line2D([x1, x2], [y1, y2], color='red'))"
   ]
  }
 ],
 "metadata": {
  "kernelspec": {
   "display_name": "Python 3.10.7 64-bit ('graphics')",
   "language": "python",
   "name": "python3"
  },
  "language_info": {
   "codemirror_mode": {
    "name": "ipython",
    "version": 3
   },
   "file_extension": ".py",
   "mimetype": "text/x-python",
   "name": "python",
   "nbconvert_exporter": "python",
   "pygments_lexer": "ipython3",
   "version": "3.10.7"
  },
  "orig_nbformat": 4,
  "vscode": {
   "interpreter": {
    "hash": "f397812d12d351fa6b9c65ce16ce5a977417653402198500d6d36be01a1a4520"
   }
  }
 },
 "nbformat": 4,
 "nbformat_minor": 2
}
